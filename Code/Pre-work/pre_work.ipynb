{
 "cells": [
  {
   "cell_type": "markdown",
   "id": "0a69cd78-14bf-4a7c-8d86-1a78e475bd52",
   "metadata": {},
   "source": [
    "Introduction to Python"
   ]
  },
  {
   "cell_type": "code",
   "execution_count": 8,
   "id": "4ad34f56-5129-4d45-976b-e722c913dbc5",
   "metadata": {},
   "outputs": [
    {
     "data": {
      "text/plain": [
       "4"
      ]
     },
     "execution_count": 8,
     "metadata": {},
     "output_type": "execute_result"
    }
   ],
   "source": [
    "num = 4\n",
    "num"
   ]
  },
  {
   "cell_type": "code",
   "execution_count": 16,
   "id": "387b8cc6-f82b-43a9-b032-55560d201b4f",
   "metadata": {},
   "outputs": [],
   "source": [
    "x = y = z= 4"
   ]
  },
  {
   "cell_type": "code",
   "execution_count": 18,
   "id": "4420c9e4-b600-4afd-9489-65169aebac23",
   "metadata": {},
   "outputs": [
    {
     "data": {
      "text/plain": [
       "4"
      ]
     },
     "execution_count": 18,
     "metadata": {},
     "output_type": "execute_result"
    }
   ],
   "source": [
    "x"
   ]
  },
  {
   "cell_type": "code",
   "execution_count": 20,
   "id": "bddedf54-2ffe-4b2b-9987-06b594225168",
   "metadata": {},
   "outputs": [
    {
     "data": {
      "text/plain": [
       "4"
      ]
     },
     "execution_count": 20,
     "metadata": {},
     "output_type": "execute_result"
    }
   ],
   "source": [
    "y"
   ]
  },
  {
   "cell_type": "code",
   "execution_count": 22,
   "id": "dd5b093a-4113-439b-9d80-eb5db3f269a0",
   "metadata": {},
   "outputs": [
    {
     "data": {
      "text/plain": [
       "4"
      ]
     },
     "execution_count": 22,
     "metadata": {},
     "output_type": "execute_result"
    }
   ],
   "source": [
    "z"
   ]
  },
  {
   "cell_type": "code",
   "execution_count": 24,
   "id": "32ddad10-ed5e-4c67-92a4-773c4cae0109",
   "metadata": {},
   "outputs": [
    {
     "data": {
      "text/plain": [
       "'hello'"
      ]
     },
     "execution_count": 24,
     "metadata": {},
     "output_type": "execute_result"
    }
   ],
   "source": [
    "a = 'hello'\n",
    "a"
   ]
  },
  {
   "cell_type": "code",
   "execution_count": 26,
   "id": "687289eb-51cc-4a3f-8d14-712cc25afd79",
   "metadata": {},
   "outputs": [],
   "source": [
    "a,b,c = 4,5,\"great learning\""
   ]
  },
  {
   "cell_type": "code",
   "execution_count": 28,
   "id": "d1151b31-8d79-4311-89d8-6a43daa90f50",
   "metadata": {},
   "outputs": [
    {
     "data": {
      "text/plain": [
       "4"
      ]
     },
     "execution_count": 28,
     "metadata": {},
     "output_type": "execute_result"
    }
   ],
   "source": [
    "a"
   ]
  },
  {
   "cell_type": "code",
   "execution_count": 30,
   "id": "a011c706-c4f8-4589-901a-f5b96768da2b",
   "metadata": {},
   "outputs": [
    {
     "data": {
      "text/plain": [
       "5"
      ]
     },
     "execution_count": 30,
     "metadata": {},
     "output_type": "execute_result"
    }
   ],
   "source": [
    "b"
   ]
  },
  {
   "cell_type": "code",
   "execution_count": 32,
   "id": "f6f7017b-f4fc-4845-8e6e-13241e608753",
   "metadata": {},
   "outputs": [
    {
     "data": {
      "text/plain": [
       "5"
      ]
     },
     "execution_count": 32,
     "metadata": {},
     "output_type": "execute_result"
    }
   ],
   "source": [
    "a\n",
    "b"
   ]
  },
  {
   "cell_type": "code",
   "execution_count": 34,
   "id": "85f74f7e-1c6a-403a-b8cd-f2f31392e255",
   "metadata": {},
   "outputs": [
    {
     "data": {
      "text/plain": [
       "(4, 5, 'great learning')"
      ]
     },
     "execution_count": 34,
     "metadata": {},
     "output_type": "execute_result"
    }
   ],
   "source": [
    "a,b,c"
   ]
  },
  {
   "cell_type": "code",
   "execution_count": 36,
   "id": "6320aa92-42f5-4d56-a1fe-3358cd8b198a",
   "metadata": {},
   "outputs": [
    {
     "data": {
      "text/plain": [
       "5"
      ]
     },
     "execution_count": 36,
     "metadata": {},
     "output_type": "execute_result"
    }
   ],
   "source": [
    "a,\n",
    "b"
   ]
  },
  {
   "cell_type": "code",
   "execution_count": 38,
   "id": "e574cbb0-642d-4360-a7fe-43e1726bcbea",
   "metadata": {},
   "outputs": [],
   "source": [
    "a = c"
   ]
  },
  {
   "cell_type": "code",
   "execution_count": 40,
   "id": "5b729be3-0dd0-4e55-8dd1-314a747c8cc3",
   "metadata": {},
   "outputs": [
    {
     "data": {
      "text/plain": [
       "'great learning'"
      ]
     },
     "execution_count": 40,
     "metadata": {},
     "output_type": "execute_result"
    }
   ],
   "source": [
    "a"
   ]
  },
  {
   "cell_type": "code",
   "execution_count": 42,
   "id": "9d49293e-4677-43df-9820-37c79993ded6",
   "metadata": {},
   "outputs": [
    {
     "data": {
      "text/plain": [
       "'great learning'"
      ]
     },
     "execution_count": 42,
     "metadata": {},
     "output_type": "execute_result"
    }
   ],
   "source": [
    "c"
   ]
  },
  {
   "cell_type": "code",
   "execution_count": 44,
   "id": "6bcac2aa-c469-41a4-bea0-2fbecd3d43ea",
   "metadata": {},
   "outputs": [
    {
     "data": {
      "text/plain": [
       "int"
      ]
     },
     "execution_count": 44,
     "metadata": {},
     "output_type": "execute_result"
    }
   ],
   "source": [
    "type(b)"
   ]
  },
  {
   "cell_type": "code",
   "execution_count": 46,
   "id": "f49f4a4c-ea1f-4d38-aabd-4df2f9e26b7e",
   "metadata": {},
   "outputs": [
    {
     "data": {
      "text/plain": [
       "float"
      ]
     },
     "execution_count": 46,
     "metadata": {},
     "output_type": "execute_result"
    }
   ],
   "source": [
    "a = 5.0\n",
    "type(a)"
   ]
  },
  {
   "cell_type": "code",
   "execution_count": 48,
   "id": "35c5768c-30ee-48b9-ae9e-610fd6ea621e",
   "metadata": {},
   "outputs": [
    {
     "data": {
      "text/plain": [
       "25.0"
      ]
     },
     "execution_count": 48,
     "metadata": {},
     "output_type": "execute_result"
    }
   ],
   "source": [
    "c = a * b\n",
    "c"
   ]
  },
  {
   "cell_type": "code",
   "execution_count": 50,
   "id": "2f638215-ae36-4092-898f-3d62fa55fa6f",
   "metadata": {},
   "outputs": [
    {
     "data": {
      "text/plain": [
       "float"
      ]
     },
     "execution_count": 50,
     "metadata": {},
     "output_type": "execute_result"
    }
   ],
   "source": [
    "type(c)"
   ]
  },
  {
   "cell_type": "code",
   "execution_count": 52,
   "id": "bceb55f4-1b92-4469-a075-8f5342826a46",
   "metadata": {},
   "outputs": [],
   "source": [
    "a = 16000"
   ]
  },
  {
   "cell_type": "markdown",
   "id": "20bedecb-f032-4b7e-8320-f893ef4e3d28",
   "metadata": {},
   "source": [
    "# 10 to the power 4"
   ]
  },
  {
   "cell_type": "code",
   "execution_count": 59,
   "id": "846354ca-b0f3-4f9a-aae5-291700b850d6",
   "metadata": {},
   "outputs": [
    {
     "data": {
      "text/plain": [
       "16000.0"
      ]
     },
     "execution_count": 59,
     "metadata": {},
     "output_type": "execute_result"
    }
   ],
   "source": [
    "a = 1.6e4\n",
    "a"
   ]
  },
  {
   "cell_type": "markdown",
   "id": "2686198b-ad3b-4394-b5cd-19daaf4665e9",
   "metadata": {},
   "source": [
    "type(a)"
   ]
  },
  {
   "cell_type": "markdown",
   "id": "d13fa2e4-5033-4fc6-b17a-a117c6aad367",
   "metadata": {},
   "source": [
    "# Complex number"
   ]
  },
  {
   "cell_type": "code",
   "execution_count": 64,
   "id": "3c520f0c-5a14-4add-ba44-47a1d6411f0c",
   "metadata": {},
   "outputs": [
    {
     "ename": "SyntaxError",
     "evalue": "invalid decimal literal (1142389050.py, line 1)",
     "output_type": "error",
     "traceback": [
      "\u001b[1;36m  Cell \u001b[1;32mIn[64], line 1\u001b[1;36m\u001b[0m\n\u001b[1;33m    x = 3 + 4i # i is reserved, can't be used\u001b[0m\n\u001b[1;37m            ^\u001b[0m\n\u001b[1;31mSyntaxError\u001b[0m\u001b[1;31m:\u001b[0m invalid decimal literal\n"
     ]
    }
   ],
   "source": [
    "x = 3 + 4i # i is reserved, can't be used "
   ]
  },
  {
   "cell_type": "code",
   "execution_count": 66,
   "id": "d2a29c32-904c-42b6-8f3f-994933313c45",
   "metadata": {},
   "outputs": [
    {
     "data": {
      "text/plain": [
       "(3+4j)"
      ]
     },
     "execution_count": 66,
     "metadata": {},
     "output_type": "execute_result"
    }
   ],
   "source": [
    "x = 3 + 4j\n",
    "x"
   ]
  },
  {
   "cell_type": "code",
   "execution_count": 68,
   "id": "c7b0ebb1-bd00-4758-a810-5973fffc61e8",
   "metadata": {},
   "outputs": [
    {
     "data": {
      "text/plain": [
       "complex"
      ]
     },
     "execution_count": 68,
     "metadata": {},
     "output_type": "execute_result"
    }
   ],
   "source": [
    "type(x)"
   ]
  },
  {
   "cell_type": "markdown",
   "id": "18ca3b59-5de0-427e-bc30-6a2c31331f54",
   "metadata": {},
   "source": [
    "# Operation on Strings"
   ]
  },
  {
   "cell_type": "code",
   "execution_count": 73,
   "id": "401f4a8c-b393-47f8-bd77-3df9ff0218ad",
   "metadata": {},
   "outputs": [],
   "source": [
    "str1 = \"Great\"\n",
    "str2 = \"Learning\""
   ]
  },
  {
   "cell_type": "code",
   "execution_count": 75,
   "id": "0e6b9529-9628-488a-aaca-5d56a5eaaa4e",
   "metadata": {},
   "outputs": [
    {
     "data": {
      "text/plain": [
       "'GreatLearning'"
      ]
     },
     "execution_count": 75,
     "metadata": {},
     "output_type": "execute_result"
    }
   ],
   "source": [
    "str1 + str2"
   ]
  },
  {
   "cell_type": "code",
   "execution_count": 77,
   "id": "41973acc-70e1-454b-9208-47ee9ae87ae4",
   "metadata": {},
   "outputs": [
    {
     "data": {
      "text/plain": [
       "'ACTGACTGACTGACTGACTGACTGACTGACTGACTGACTG'"
      ]
     },
     "execution_count": 77,
     "metadata": {},
     "output_type": "execute_result"
    }
   ],
   "source": [
    "str4 = \"ACTG\"\n",
    "str4*10"
   ]
  },
  {
   "cell_type": "code",
   "execution_count": 79,
   "id": "095bfa09-ba0b-4dc1-b60f-8896e2e4c06d",
   "metadata": {},
   "outputs": [
    {
     "data": {
      "text/plain": [
       "'A'"
      ]
     },
     "execution_count": 79,
     "metadata": {},
     "output_type": "execute_result"
    }
   ],
   "source": [
    "str4[0]"
   ]
  },
  {
   "cell_type": "code",
   "execution_count": 81,
   "id": "8fd96b95-3658-48ba-9973-ccca56a72502",
   "metadata": {},
   "outputs": [
    {
     "data": {
      "text/plain": [
       "'C'"
      ]
     },
     "execution_count": 81,
     "metadata": {},
     "output_type": "execute_result"
    }
   ],
   "source": [
    "str4[1]"
   ]
  },
  {
   "cell_type": "code",
   "execution_count": 87,
   "id": "5b27d8a7-6c09-4776-a1b2-18832b13088b",
   "metadata": {},
   "outputs": [
    {
     "data": {
      "text/plain": [
       "'G'"
      ]
     },
     "execution_count": 87,
     "metadata": {},
     "output_type": "execute_result"
    }
   ],
   "source": [
    "str4[-1] # - index start reading from right"
   ]
  },
  {
   "cell_type": "code",
   "execution_count": 85,
   "id": "964dc1ac-8d92-4f19-9512-9758a27fcd48",
   "metadata": {},
   "outputs": [
    {
     "data": {
      "text/plain": [
       "'T'"
      ]
     },
     "execution_count": 85,
     "metadata": {},
     "output_type": "execute_result"
    }
   ],
   "source": [
    "str4[-2]"
   ]
  },
  {
   "cell_type": "code",
   "execution_count": 89,
   "id": "db18ed01-3d59-4c4e-b322-59e8a981fe91",
   "metadata": {},
   "outputs": [
    {
     "data": {
      "text/plain": [
       "'G'"
      ]
     },
     "execution_count": 89,
     "metadata": {},
     "output_type": "execute_result"
    }
   ],
   "source": [
    "str1[0]"
   ]
  },
  {
   "cell_type": "code",
   "execution_count": 95,
   "id": "22ea24e7-0b2c-45ed-9f6b-5b97ad40dee5",
   "metadata": {},
   "outputs": [
    {
     "data": {
      "text/plain": [
       "'Gr'"
      ]
     },
     "execution_count": 95,
     "metadata": {},
     "output_type": "execute_result"
    }
   ],
   "source": [
    "str1[0:2] # 0:2 gives first 2 values starting from index 0"
   ]
  },
  {
   "cell_type": "code",
   "execution_count": 93,
   "id": "53f66bfd-a8e5-47e0-a626-36a267fe7680",
   "metadata": {},
   "outputs": [
    {
     "data": {
      "text/plain": [
       "'Gre'"
      ]
     },
     "execution_count": 93,
     "metadata": {},
     "output_type": "execute_result"
    }
   ],
   "source": [
    "str1[0:3]"
   ]
  },
  {
   "cell_type": "markdown",
   "id": "b70baecd-4ab9-47ff-8c57-8948d403ce24",
   "metadata": {},
   "source": [
    "# Boolean variable"
   ]
  },
  {
   "cell_type": "code",
   "execution_count": 97,
   "id": "211f50ef-5023-43fc-bee8-abf4a5e5eb31",
   "metadata": {},
   "outputs": [
    {
     "ename": "NameError",
     "evalue": "name 'true' is not defined",
     "output_type": "error",
     "traceback": [
      "\u001b[1;31m---------------------------------------------------------------------------\u001b[0m",
      "\u001b[1;31mNameError\u001b[0m                                 Traceback (most recent call last)",
      "Cell \u001b[1;32mIn[97], line 1\u001b[0m\n\u001b[1;32m----> 1\u001b[0m var \u001b[38;5;241m=\u001b[39m true\n",
      "\u001b[1;31mNameError\u001b[0m: name 'true' is not defined"
     ]
    }
   ],
   "source": [
    "var = true"
   ]
  },
  {
   "cell_type": "code",
   "execution_count": 99,
   "id": "ac488880-5c66-4a8e-8b59-015f7ebfef0c",
   "metadata": {},
   "outputs": [],
   "source": [
    "var = True"
   ]
  },
  {
   "cell_type": "code",
   "execution_count": 101,
   "id": "bab55598-ecb9-4f0c-b43a-dc600d166159",
   "metadata": {},
   "outputs": [
    {
     "data": {
      "text/plain": [
       "bool"
      ]
     },
     "execution_count": 101,
     "metadata": {},
     "output_type": "execute_result"
    }
   ],
   "source": [
    "type(var)"
   ]
  },
  {
   "cell_type": "markdown",
   "id": "7c76e0b1-db11-4371-8631-5bde41162283",
   "metadata": {},
   "source": [
    "# Change data type"
   ]
  },
  {
   "cell_type": "code",
   "execution_count": 105,
   "id": "b75a4120-b109-4e1b-9a84-c012dace69a5",
   "metadata": {},
   "outputs": [
    {
     "data": {
      "text/plain": [
       "int"
      ]
     },
     "execution_count": 105,
     "metadata": {},
     "output_type": "execute_result"
    }
   ],
   "source": [
    "type(11)"
   ]
  },
  {
   "cell_type": "code",
   "execution_count": 109,
   "id": "54a4cf62-a74e-4a43-8e8a-e801c1b87b66",
   "metadata": {},
   "outputs": [
    {
     "data": {
      "text/plain": [
       "11.0"
      ]
     },
     "execution_count": 109,
     "metadata": {},
     "output_type": "execute_result"
    }
   ],
   "source": [
    "float(11) #change the data type from int to float"
   ]
  },
  {
   "cell_type": "code",
   "execution_count": 111,
   "id": "29c4bb1f-2390-4727-8c85-011c1e151a6f",
   "metadata": {},
   "outputs": [
    {
     "data": {
      "text/plain": [
       "11.0"
      ]
     },
     "execution_count": 111,
     "metadata": {},
     "output_type": "execute_result"
    }
   ],
   "source": [
    "float('11')"
   ]
  },
  {
   "cell_type": "code",
   "execution_count": 113,
   "id": "6e05bc57-8918-46d5-bb61-0fecf22ec78b",
   "metadata": {},
   "outputs": [
    {
     "ename": "ValueError",
     "evalue": "could not convert string to float: 'GL'",
     "output_type": "error",
     "traceback": [
      "\u001b[1;31m---------------------------------------------------------------------------\u001b[0m",
      "\u001b[1;31mValueError\u001b[0m                                Traceback (most recent call last)",
      "Cell \u001b[1;32mIn[113], line 1\u001b[0m\n\u001b[1;32m----> 1\u001b[0m \u001b[38;5;28mfloat\u001b[39m(\u001b[38;5;124m'\u001b[39m\u001b[38;5;124mGL\u001b[39m\u001b[38;5;124m'\u001b[39m)\n",
      "\u001b[1;31mValueError\u001b[0m: could not convert string to float: 'GL'"
     ]
    }
   ],
   "source": [
    "float('GL')"
   ]
  },
  {
   "cell_type": "code",
   "execution_count": 115,
   "id": "24a431a1-c489-433d-82b7-69693b01c753",
   "metadata": {},
   "outputs": [
    {
     "ename": "NameError",
     "evalue": "name 'string' is not defined",
     "output_type": "error",
     "traceback": [
      "\u001b[1;31m---------------------------------------------------------------------------\u001b[0m",
      "\u001b[1;31mNameError\u001b[0m                                 Traceback (most recent call last)",
      "Cell \u001b[1;32mIn[115], line 1\u001b[0m\n\u001b[1;32m----> 1\u001b[0m string(\u001b[38;5;241m11\u001b[39m)\n",
      "\u001b[1;31mNameError\u001b[0m: name 'string' is not defined"
     ]
    }
   ],
   "source": [
    "string(11)"
   ]
  },
  {
   "cell_type": "code",
   "execution_count": 117,
   "id": "8fd20ea1-63f7-430e-ad35-6a6e9cf1b31e",
   "metadata": {},
   "outputs": [
    {
     "data": {
      "text/plain": [
       "'11'"
      ]
     },
     "execution_count": 117,
     "metadata": {},
     "output_type": "execute_result"
    }
   ],
   "source": [
    "str(11)"
   ]
  },
  {
   "cell_type": "markdown",
   "id": "e0f440c7-23e9-4fd8-a0a0-17eb5e199732",
   "metadata": {},
   "source": [
    "# Print statement"
   ]
  },
  {
   "cell_type": "code",
   "execution_count": 120,
   "id": "0286d7e3-2317-46d7-a1bc-0b3c74e12497",
   "metadata": {},
   "outputs": [
    {
     "name": "stdout",
     "output_type": "stream",
     "text": [
      "Hello World\n"
     ]
    }
   ],
   "source": [
    "print('Hello World')"
   ]
  },
  {
   "cell_type": "code",
   "execution_count": 122,
   "id": "36bee6ce-3b28-4889-937d-22d69abb81f2",
   "metadata": {},
   "outputs": [
    {
     "ename": "TypeError",
     "evalue": "'x' is an invalid keyword argument for print()",
     "output_type": "error",
     "traceback": [
      "\u001b[1;31m---------------------------------------------------------------------------\u001b[0m",
      "\u001b[1;31mTypeError\u001b[0m                                 Traceback (most recent call last)",
      "Cell \u001b[1;32mIn[122], line 1\u001b[0m\n\u001b[1;32m----> 1\u001b[0m \u001b[38;5;28mprint\u001b[39m(x\u001b[38;5;241m=\u001b[39m\u001b[38;5;241m2\u001b[39m)\n",
      "\u001b[1;31mTypeError\u001b[0m: 'x' is an invalid keyword argument for print()"
     ]
    }
   ],
   "source": [
    "print(x=2)"
   ]
  },
  {
   "cell_type": "code",
   "execution_count": 124,
   "id": "2c608670-fe28-4d97-bd58-0680e347d773",
   "metadata": {},
   "outputs": [],
   "source": [
    "x=2"
   ]
  },
  {
   "cell_type": "code",
   "execution_count": 126,
   "id": "8f5c2367-4f53-420f-a2e2-c14f34de88e4",
   "metadata": {},
   "outputs": [
    {
     "name": "stdout",
     "output_type": "stream",
     "text": [
      "x= 2\n"
     ]
    }
   ],
   "source": [
    "print(\"x=\", x)"
   ]
  },
  {
   "cell_type": "code",
   "execution_count": 128,
   "id": "479d4165-3782-4234-8920-a1f70b532474",
   "metadata": {},
   "outputs": [
    {
     "name": "stdout",
     "output_type": "stream",
     "text": [
      "x =  3\n"
     ]
    }
   ],
   "source": [
    "print(\"x = \", 3)"
   ]
  },
  {
   "cell_type": "code",
   "execution_count": 130,
   "id": "9a3641db-6768-40a4-a397-8eb31d8e1a60",
   "metadata": {},
   "outputs": [
    {
     "data": {
      "text/plain": [
       "2"
      ]
     },
     "execution_count": 130,
     "metadata": {},
     "output_type": "execute_result"
    }
   ],
   "source": [
    "x"
   ]
  },
  {
   "cell_type": "code",
   "execution_count": 136,
   "id": "7bd5c39b-b41d-4b5b-a194-b50858d4700b",
   "metadata": {},
   "outputs": [
    {
     "name": "stdout",
     "output_type": "stream",
     "text": [
      "x =  3\n"
     ]
    }
   ],
   "source": [
    "print(\"x = \", x+1)"
   ]
  },
  {
   "cell_type": "code",
   "execution_count": 138,
   "id": "d67432ea-5ca2-4cec-89ea-2f35155a5059",
   "metadata": {},
   "outputs": [
    {
     "data": {
      "text/plain": [
       "2"
      ]
     },
     "execution_count": 138,
     "metadata": {},
     "output_type": "execute_result"
    }
   ],
   "source": [
    "x"
   ]
  },
  {
   "cell_type": "code",
   "execution_count": 144,
   "id": "fc985fcb-0272-4fbd-9ec8-dd9bd1a7faa1",
   "metadata": {},
   "outputs": [
    {
     "name": "stdout",
     "output_type": "stream",
     "text": [
      "x = 7\n",
      "\n",
      "y = 9\n"
     ]
    }
   ],
   "source": [
    "x = 7\n",
    "y = 9\n",
    "print(\"x =\",x,end=\"\\n\\n\") # \"\\n\" for new line\n",
    "print(\"y =\",y)"
   ]
  },
  {
   "cell_type": "markdown",
   "id": "7ae1a3e5-ef95-4a66-9d12-fe8dd2712778",
   "metadata": {},
   "source": [
    "# User Input"
   ]
  },
  {
   "cell_type": "code",
   "execution_count": 149,
   "id": "3f8f391d-3766-4c36-ab5e-b9d23c4e37da",
   "metadata": {},
   "outputs": [
    {
     "name": "stdin",
     "output_type": "stream",
     "text": [
      "Please enter your age: 39\n"
     ]
    }
   ],
   "source": [
    "age = int(input(\"Please enter your age:\"))"
   ]
  },
  {
   "cell_type": "code",
   "execution_count": 151,
   "id": "03fd5f74-a068-4c9d-9544-193a3ea0547e",
   "metadata": {},
   "outputs": [
    {
     "name": "stdout",
     "output_type": "stream",
     "text": [
      "39\n"
     ]
    },
    {
     "data": {
      "text/plain": [
       "int"
      ]
     },
     "execution_count": 151,
     "metadata": {},
     "output_type": "execute_result"
    }
   ],
   "source": [
    "print(age)\n",
    "type(age)"
   ]
  },
  {
   "cell_type": "markdown",
   "id": "92720551-28fe-426f-a7b7-14bfc6d47738",
   "metadata": {},
   "source": [
    "# Arithmetic Operation "
   ]
  },
  {
   "cell_type": "code",
   "execution_count": 154,
   "id": "90d51a95-de63-4918-83cd-49f569a66c9e",
   "metadata": {},
   "outputs": [],
   "source": [
    "a = 12\n",
    "b = 2"
   ]
  },
  {
   "cell_type": "code",
   "execution_count": 156,
   "id": "5d4932f0-db85-4fac-b0d8-967428e3a3e4",
   "metadata": {},
   "outputs": [
    {
     "data": {
      "text/plain": [
       "14"
      ]
     },
     "execution_count": 156,
     "metadata": {},
     "output_type": "execute_result"
    }
   ],
   "source": [
    "a + b"
   ]
  },
  {
   "cell_type": "code",
   "execution_count": 158,
   "id": "60f9dc54-4055-487f-abab-e46b9656d9f9",
   "metadata": {},
   "outputs": [
    {
     "data": {
      "text/plain": [
       "10"
      ]
     },
     "execution_count": 158,
     "metadata": {},
     "output_type": "execute_result"
    }
   ],
   "source": [
    "a - b"
   ]
  },
  {
   "cell_type": "code",
   "execution_count": 160,
   "id": "3a09946b-0eb1-41ab-a6ae-e7abed7a88cd",
   "metadata": {},
   "outputs": [
    {
     "data": {
      "text/plain": [
       "6.0"
      ]
     },
     "execution_count": 160,
     "metadata": {},
     "output_type": "execute_result"
    }
   ],
   "source": [
    "a / b"
   ]
  },
  {
   "cell_type": "code",
   "execution_count": 164,
   "id": "ed9c6663-ea0f-43a5-95de-095e3041b12c",
   "metadata": {},
   "outputs": [
    {
     "data": {
      "text/plain": [
       "6"
      ]
     },
     "execution_count": 164,
     "metadata": {},
     "output_type": "execute_result"
    }
   ],
   "source": [
    "a // b # gives the integer value of the division"
   ]
  },
  {
   "cell_type": "code",
   "execution_count": 166,
   "id": "3e174f12-5972-4626-a3d9-077433316760",
   "metadata": {},
   "outputs": [
    {
     "data": {
      "text/plain": [
       "24"
      ]
     },
     "execution_count": 166,
     "metadata": {},
     "output_type": "execute_result"
    }
   ],
   "source": [
    "a*b"
   ]
  },
  {
   "cell_type": "code",
   "execution_count": 168,
   "id": "934bc45d-d091-41a1-b50b-91b5204a5f50",
   "metadata": {},
   "outputs": [
    {
     "data": {
      "text/plain": [
       "144"
      ]
     },
     "execution_count": 168,
     "metadata": {},
     "output_type": "execute_result"
    }
   ],
   "source": [
    "a**b # gives the value of a to the power b"
   ]
  },
  {
   "cell_type": "code",
   "execution_count": 170,
   "id": "12d30aec-07f9-419e-8014-732a551621ea",
   "metadata": {},
   "outputs": [
    {
     "data": {
      "text/plain": [
       "0"
      ]
     },
     "execution_count": 170,
     "metadata": {},
     "output_type": "execute_result"
    }
   ],
   "source": [
    "a%b # gives the remainder of the division"
   ]
  },
  {
   "cell_type": "markdown",
   "id": "8887afba-5da7-465b-87c2-4a6839d439cd",
   "metadata": {},
   "source": [
    "# Comparison Operator"
   ]
  },
  {
   "cell_type": "code",
   "execution_count": 174,
   "id": "0d05c22e-4e20-4644-aabb-c9e2509caac6",
   "metadata": {},
   "outputs": [],
   "source": [
    "a = 10\n",
    "b = 20"
   ]
  },
  {
   "cell_type": "code",
   "execution_count": 176,
   "id": "d59e80bd-bb3e-45ab-b2ad-fc1b5e609107",
   "metadata": {},
   "outputs": [
    {
     "data": {
      "text/plain": [
       "False"
      ]
     },
     "execution_count": 176,
     "metadata": {},
     "output_type": "execute_result"
    }
   ],
   "source": [
    "a>b"
   ]
  },
  {
   "cell_type": "code",
   "execution_count": 178,
   "id": "00e59a7a-69ef-4dfd-8793-9c7d9c02a724",
   "metadata": {},
   "outputs": [
    {
     "data": {
      "text/plain": [
       "True"
      ]
     },
     "execution_count": 178,
     "metadata": {},
     "output_type": "execute_result"
    }
   ],
   "source": [
    "a<b"
   ]
  },
  {
   "cell_type": "code",
   "execution_count": 180,
   "id": "d55bc91a-b792-4e7c-a984-6fba5e778b3f",
   "metadata": {},
   "outputs": [
    {
     "data": {
      "text/plain": [
       "False"
      ]
     },
     "execution_count": 180,
     "metadata": {},
     "output_type": "execute_result"
    }
   ],
   "source": [
    "a == b"
   ]
  },
  {
   "cell_type": "code",
   "execution_count": 182,
   "id": "5b424859-67ec-4a13-9f88-dc188db4b077",
   "metadata": {},
   "outputs": [
    {
     "ename": "SyntaxError",
     "evalue": "invalid syntax (1192368679.py, line 1)",
     "output_type": "error",
     "traceback": [
      "\u001b[1;36m  Cell \u001b[1;32mIn[182], line 1\u001b[1;36m\u001b[0m\n\u001b[1;33m    a === b\u001b[0m\n\u001b[1;37m        ^\u001b[0m\n\u001b[1;31mSyntaxError\u001b[0m\u001b[1;31m:\u001b[0m invalid syntax\n"
     ]
    }
   ],
   "source": [
    "a === b"
   ]
  },
  {
   "cell_type": "code",
   "execution_count": 184,
   "id": "b87ef5ef-a70b-46ed-8596-18fa69f89c42",
   "metadata": {},
   "outputs": [
    {
     "data": {
      "text/plain": [
       "True"
      ]
     },
     "execution_count": 184,
     "metadata": {},
     "output_type": "execute_result"
    }
   ],
   "source": [
    "a != b"
   ]
  },
  {
   "cell_type": "code",
   "execution_count": 186,
   "id": "b1af4bb1-1fb5-4e5c-9370-7157e19726be",
   "metadata": {},
   "outputs": [
    {
     "data": {
      "text/plain": [
       "False"
      ]
     },
     "execution_count": 186,
     "metadata": {},
     "output_type": "execute_result"
    }
   ],
   "source": [
    "a >= b"
   ]
  },
  {
   "cell_type": "code",
   "execution_count": 188,
   "id": "f6e316e3-13ab-440f-8992-dc874a67ee57",
   "metadata": {},
   "outputs": [
    {
     "data": {
      "text/plain": [
       "True"
      ]
     },
     "execution_count": 188,
     "metadata": {},
     "output_type": "execute_result"
    }
   ],
   "source": [
    "a <= b"
   ]
  },
  {
   "cell_type": "code",
   "execution_count": 190,
   "id": "e8fb3b0e-4263-4947-954a-44d32d8fd0b9",
   "metadata": {},
   "outputs": [],
   "source": [
    "x = 5"
   ]
  },
  {
   "cell_type": "code",
   "execution_count": 194,
   "id": "1f8005b0-59a0-4e3f-8aca-99137aefd89c",
   "metadata": {},
   "outputs": [
    {
     "data": {
      "text/plain": [
       "15"
      ]
     },
     "execution_count": 194,
     "metadata": {},
     "output_type": "execute_result"
    }
   ],
   "source": [
    "x += 5\n",
    "x"
   ]
  },
  {
   "cell_type": "code",
   "execution_count": 196,
   "id": "6bafd7da-7edc-48a0-97ef-90d31a0259af",
   "metadata": {},
   "outputs": [
    {
     "data": {
      "text/plain": [
       "10"
      ]
     },
     "execution_count": 196,
     "metadata": {},
     "output_type": "execute_result"
    }
   ],
   "source": [
    "x -= 5\n",
    "x"
   ]
  },
  {
   "cell_type": "code",
   "execution_count": 200,
   "id": "bd8d8786-2c56-4d94-b06e-f6ca7f20c4c6",
   "metadata": {},
   "outputs": [
    {
     "data": {
      "text/plain": [
       "40"
      ]
     },
     "execution_count": 200,
     "metadata": {},
     "output_type": "execute_result"
    }
   ],
   "source": [
    "x *= 2\n",
    "x"
   ]
  },
  {
   "cell_type": "code",
   "execution_count": 202,
   "id": "307c93f9-2c59-4b12-a9fc-be5a0d33bbcd",
   "metadata": {},
   "outputs": [
    {
     "data": {
      "text/plain": [
       "20.0"
      ]
     },
     "execution_count": 202,
     "metadata": {},
     "output_type": "execute_result"
    }
   ],
   "source": [
    "x /= 2\n",
    "x"
   ]
  },
  {
   "cell_type": "code",
   "execution_count": 204,
   "id": "21dd3a11-f844-4592-93d5-748516c01748",
   "metadata": {},
   "outputs": [
    {
     "name": "stdout",
     "output_type": "stream",
     "text": [
      "True\n"
     ]
    }
   ],
   "source": [
    "x = 11\n",
    "a = x>10 and x<20\n",
    "print(a)"
   ]
  },
  {
   "cell_type": "code",
   "execution_count": 206,
   "id": "f48b2504-e5f3-4c2f-af24-9b2da165e655",
   "metadata": {},
   "outputs": [
    {
     "name": "stdout",
     "output_type": "stream",
     "text": [
      "True\n"
     ]
    }
   ],
   "source": [
    "a = x>10 or x<20\n",
    "print(a)"
   ]
  },
  {
   "cell_type": "markdown",
   "id": "f467b225-7cc5-44d7-a271-eb494cd5b87b",
   "metadata": {},
   "source": [
    "# List"
   ]
  },
  {
   "cell_type": "code",
   "execution_count": 209,
   "id": "a190119a-ab7d-4ad7-94e3-970aff42dc74",
   "metadata": {},
   "outputs": [
    {
     "data": {
      "text/plain": [
       "[]"
      ]
     },
     "execution_count": 209,
     "metadata": {},
     "output_type": "execute_result"
    }
   ],
   "source": [
    "empty_list = []\n",
    "empty_list"
   ]
  },
  {
   "cell_type": "code",
   "execution_count": 211,
   "id": "706cc1c0-bd87-43cb-ba94-8fbde494e5ef",
   "metadata": {},
   "outputs": [
    {
     "data": {
      "text/plain": [
       "[['Data Science', 'Machine Learning'], [135, 232, 321]]"
      ]
     },
     "execution_count": 211,
     "metadata": {},
     "output_type": "execute_result"
    }
   ],
   "source": [
    "# nested list\n",
    "nested_list = [['Data Science', 'Machine Learning'],[135,232,321]]\n",
    "nested_list"
   ]
  },
  {
   "cell_type": "code",
   "execution_count": 213,
   "id": "4d95251b-ba0c-45b1-a244-2bfdfd4383f5",
   "metadata": {},
   "outputs": [
    {
     "data": {
      "text/plain": [
       "['Data Science', 'Machine Learning']"
      ]
     },
     "execution_count": 213,
     "metadata": {},
     "output_type": "execute_result"
    }
   ],
   "source": [
    "nested_list[0]"
   ]
  },
  {
   "cell_type": "code",
   "execution_count": 215,
   "id": "915caaf4-b420-478f-9185-a0c2dd905ab2",
   "metadata": {},
   "outputs": [
    {
     "data": {
      "text/plain": [
       "[['Data Science', 'Machine Learning']]"
      ]
     },
     "execution_count": 215,
     "metadata": {},
     "output_type": "execute_result"
    }
   ],
   "source": [
    "nested_list[0:1]"
   ]
  },
  {
   "cell_type": "code",
   "execution_count": 219,
   "id": "69a403b9-6792-41b6-ad7d-2ea199da391a",
   "metadata": {},
   "outputs": [
    {
     "data": {
      "text/plain": [
       "'Machine Learning'"
      ]
     },
     "execution_count": 219,
     "metadata": {},
     "output_type": "execute_result"
    }
   ],
   "source": [
    "nested_list[0][1]"
   ]
  },
  {
   "cell_type": "code",
   "execution_count": 221,
   "id": "7a7f1b73-350a-487b-9a9d-88bf0f174a96",
   "metadata": {},
   "outputs": [
    {
     "data": {
      "text/plain": [
       "[2, 'a']"
      ]
     },
     "execution_count": 221,
     "metadata": {},
     "output_type": "execute_result"
    }
   ],
   "source": [
    "list_datatype = [2,\"a\"]\n",
    "list_datatype"
   ]
  },
  {
   "cell_type": "code",
   "execution_count": 223,
   "id": "5ead303d-25b1-490e-91e0-50b568d1d5f3",
   "metadata": {},
   "outputs": [
    {
     "data": {
      "text/plain": [
       "['Data Science', 'Machine Learning']"
      ]
     },
     "execution_count": 223,
     "metadata": {},
     "output_type": "execute_result"
    }
   ],
   "source": [
    "nested_list[0][:2]"
   ]
  },
  {
   "cell_type": "code",
   "execution_count": 225,
   "id": "4fcae0e4-347a-4eb9-ace5-9f766d5c2dc6",
   "metadata": {},
   "outputs": [
    {
     "data": {
      "text/plain": [
       "2"
      ]
     },
     "execution_count": 225,
     "metadata": {},
     "output_type": "execute_result"
    }
   ],
   "source": [
    "list_datatype[-2]"
   ]
  },
  {
   "cell_type": "markdown",
   "id": "5d64cbd8-be9a-45ac-bf2e-c6e08ccef2d7",
   "metadata": {},
   "source": [
    "# Slicing List"
   ]
  },
  {
   "cell_type": "code",
   "execution_count": 228,
   "id": "604744e1-be7f-4d1b-a6a2-2155a023c21b",
   "metadata": {},
   "outputs": [
    {
     "data": {
      "text/plain": [
       "['a', 'b', 'c', 'd', 'e', 'f']"
      ]
     },
     "execution_count": 228,
     "metadata": {},
     "output_type": "execute_result"
    }
   ],
   "source": [
    "some_list = [\"a\", \"b\", \"c\", \"d\", \"e\", \"f\"]\n",
    "some_list"
   ]
  },
  {
   "cell_type": "code",
   "execution_count": 230,
   "id": "17f1b910-33de-4050-929b-15c52a3465ff",
   "metadata": {},
   "outputs": [
    {
     "data": {
      "text/plain": [
       "['a', 'b', 'c']"
      ]
     },
     "execution_count": 230,
     "metadata": {},
     "output_type": "execute_result"
    }
   ],
   "source": [
    "some_list[:3]"
   ]
  },
  {
   "cell_type": "code",
   "execution_count": 250,
   "id": "b231c9a9-0e5f-441d-9dbf-2030fb8be11d",
   "metadata": {},
   "outputs": [
    {
     "data": {
      "text/plain": [
       "['b', 'c', 'd']"
      ]
     },
     "execution_count": 250,
     "metadata": {},
     "output_type": "execute_result"
    }
   ],
   "source": [
    "some_list[1:4]"
   ]
  },
  {
   "cell_type": "code",
   "execution_count": 234,
   "id": "b0aa0d15-e613-4269-9f59-5884af88be1c",
   "metadata": {},
   "outputs": [
    {
     "data": {
      "text/plain": [
       "['a', 'b', 'c', 'd', 'e', 'f']"
      ]
     },
     "execution_count": 234,
     "metadata": {},
     "output_type": "execute_result"
    }
   ],
   "source": [
    "some_list[:]"
   ]
  },
  {
   "cell_type": "code",
   "execution_count": 242,
   "id": "95c26a58-750e-4b46-8082-570f10d513bb",
   "metadata": {},
   "outputs": [
    {
     "data": {
      "text/plain": [
       "[1, 2, 3, 4, 5, 6, 7, 8, 9, 10]"
      ]
     },
     "execution_count": 242,
     "metadata": {},
     "output_type": "execute_result"
    }
   ],
   "source": [
    "a = [1,2,3,4,5,6,7,8,9,10]\n",
    "a"
   ]
  },
  {
   "cell_type": "code",
   "execution_count": 254,
   "id": "8c7bb405-0e86-4c7f-a362-e74c820cf2c2",
   "metadata": {},
   "outputs": [
    {
     "data": {
      "text/plain": [
       "[3, 5, 7, 9]"
      ]
     },
     "execution_count": 254,
     "metadata": {},
     "output_type": "execute_result"
    }
   ],
   "source": [
    "a[2:9:2] # a[start_index:length:step]"
   ]
  },
  {
   "cell_type": "markdown",
   "id": "97576aad-4188-46f0-ac01-6e6c93130a56",
   "metadata": {},
   "source": [
    "# List methods"
   ]
  },
  {
   "cell_type": "code",
   "execution_count": 1,
   "id": "11e4f0f9-10bd-46e0-9ce8-2377eecb543e",
   "metadata": {},
   "outputs": [],
   "source": [
    "course1 = ['data science', 'machine learning', 'python', 'html', 'big data']\n",
    "course2 = ['statistics']\n"
   ]
  },
  {
   "cell_type": "code",
   "execution_count": 3,
   "id": "c9615c31-d3f8-4241-95b2-ee693da0a38b",
   "metadata": {},
   "outputs": [
    {
     "data": {
      "text/plain": [
       "['data science',\n",
       " 'machine learning',\n",
       " 'python',\n",
       " 'html',\n",
       " 'big data',\n",
       " ['statistics']]"
      ]
     },
     "execution_count": 3,
     "metadata": {},
     "output_type": "execute_result"
    }
   ],
   "source": [
    "course1.append(course2)\n",
    "course1"
   ]
  },
  {
   "cell_type": "code",
   "execution_count": 27,
   "id": "205f3a42-c493-4b2b-9a11-cadf630d58f4",
   "metadata": {},
   "outputs": [
    {
     "ename": "ValueError",
     "evalue": "list.remove(x): x not in list",
     "output_type": "error",
     "traceback": [
      "\u001b[1;31m---------------------------------------------------------------------------\u001b[0m",
      "\u001b[1;31mValueError\u001b[0m                                Traceback (most recent call last)",
      "Cell \u001b[1;32mIn[27], line 1\u001b[0m\n\u001b[1;32m----> 1\u001b[0m course1\u001b[38;5;241m.\u001b[39mremove([\u001b[38;5;124m'\u001b[39m\u001b[38;5;124mstatistics\u001b[39m\u001b[38;5;124m'\u001b[39m]) \u001b[38;5;66;03m#remove first occurance of the element\u001b[39;00m\n\u001b[0;32m      2\u001b[0m course1\n",
      "\u001b[1;31mValueError\u001b[0m: list.remove(x): x not in list"
     ]
    }
   ],
   "source": [
    "course1.remove(['statistics']) #remove first occurance of the element\n",
    "course1"
   ]
  },
  {
   "cell_type": "code",
   "execution_count": 7,
   "id": "b9453027-b943-45e9-97c9-d1fab2479f24",
   "metadata": {},
   "outputs": [
    {
     "data": {
      "text/plain": [
       "['data science',\n",
       " 'machine learning',\n",
       " 'statistics',\n",
       " 'python',\n",
       " 'html',\n",
       " 'big data']"
      ]
     },
     "execution_count": 7,
     "metadata": {},
     "output_type": "execute_result"
    }
   ],
   "source": [
    "course1.insert(2, 'statistics')\n",
    "course1"
   ]
  },
  {
   "cell_type": "code",
   "execution_count": 9,
   "id": "d5cbd276-bde0-409e-b6ab-bfa434ad3198",
   "metadata": {},
   "outputs": [
    {
     "data": {
      "text/plain": [
       "['data science', 'machine learning', 'python', 'html', 'big data']"
      ]
     },
     "execution_count": 9,
     "metadata": {},
     "output_type": "execute_result"
    }
   ],
   "source": [
    "course1.pop(2) # pop() without arguement will remove last element from the list\n",
    "course1"
   ]
  },
  {
   "cell_type": "code",
   "execution_count": 11,
   "id": "412b41b0-637f-418f-b02b-962dd714f057",
   "metadata": {},
   "outputs": [
    {
     "data": {
      "text/plain": [
       "['data science',\n",
       " 'machine learning',\n",
       " 'python',\n",
       " 'html',\n",
       " 'big data',\n",
       " 'statistics']"
      ]
     },
     "execution_count": 11,
     "metadata": {},
     "output_type": "execute_result"
    }
   ],
   "source": [
    "course1.extend(course2)\n",
    "course1"
   ]
  },
  {
   "cell_type": "code",
   "execution_count": 13,
   "id": "dccd0b3a-3093-4a65-9fea-ba9fdaffac8b",
   "metadata": {},
   "outputs": [
    {
     "data": {
      "text/plain": [
       "['data science', 'machine learning', 'python', 'html', 'big data']"
      ]
     },
     "execution_count": 13,
     "metadata": {},
     "output_type": "execute_result"
    }
   ],
   "source": [
    "del course1[5]\n",
    "course1"
   ]
  },
  {
   "cell_type": "code",
   "execution_count": 15,
   "id": "fef855d6-edff-409b-94d9-96db606636dc",
   "metadata": {},
   "outputs": [
    {
     "data": {
      "text/plain": [
       "['big data', 'html', 'python', 'machine learning', 'data science']"
      ]
     },
     "execution_count": 15,
     "metadata": {},
     "output_type": "execute_result"
    }
   ],
   "source": [
    "course1.reverse()\n",
    "course1"
   ]
  },
  {
   "cell_type": "code",
   "execution_count": 17,
   "id": "c19e8ad3-e5f7-46c8-bef5-e3ae64f579ec",
   "metadata": {},
   "outputs": [
    {
     "data": {
      "text/plain": [
       "['data science', 'machine learning', 'python', 'html', 'big data']"
      ]
     },
     "execution_count": 17,
     "metadata": {},
     "output_type": "execute_result"
    }
   ],
   "source": [
    "course1.reverse()\n",
    "course1"
   ]
  },
  {
   "cell_type": "code",
   "execution_count": 21,
   "id": "f3556d62-0204-4b8e-aa22-cfc152eac2df",
   "metadata": {},
   "outputs": [
    {
     "data": {
      "text/plain": [
       "['data science',\n",
       " 'machine learning',\n",
       " 'python',\n",
       " 'html',\n",
       " 'big data',\n",
       " 'statistics']"
      ]
     },
     "execution_count": 21,
     "metadata": {},
     "output_type": "execute_result"
    }
   ],
   "source": [
    "course1 + course2 # list concatination"
   ]
  },
  {
   "cell_type": "code",
   "execution_count": 23,
   "id": "31641538-7e4e-43e4-a8b3-5a84c2946784",
   "metadata": {},
   "outputs": [
    {
     "data": {
      "text/plain": [
       "['data science',\n",
       " 'machine learning',\n",
       " 'python',\n",
       " 'html',\n",
       " 'big data',\n",
       " 'data science',\n",
       " 'machine learning',\n",
       " 'python',\n",
       " 'html',\n",
       " 'big data']"
      ]
     },
     "execution_count": 23,
     "metadata": {},
     "output_type": "execute_result"
    }
   ],
   "source": [
    "course1 * 2 # list repeatation"
   ]
  },
  {
   "cell_type": "markdown",
   "id": "ac51df12-0441-4b0f-a38a-5c1746a8c461",
   "metadata": {},
   "source": [
    "# Conditional statement"
   ]
  },
  {
   "cell_type": "code",
   "execution_count": 30,
   "id": "2116d486-6556-4806-8a97-f03bfb3db659",
   "metadata": {},
   "outputs": [
    {
     "name": "stdout",
     "output_type": "stream",
     "text": [
      "Python tutorial\n"
     ]
    }
   ],
   "source": [
    "my_string = 'Python'\n",
    "my_list = ['Data Science', 'Machine Learning', 'Artificial Intelligence', 'Python']\n",
    "if my_string in my_list:\n",
    "    print(my_string+ ' tutorial')"
   ]
  },
  {
   "cell_type": "code",
   "execution_count": 42,
   "id": "d275a41b-f00f-4b98-ac61-3d15b9c6a7d6",
   "metadata": {},
   "outputs": [
    {
     "name": "stdout",
     "output_type": "stream",
     "text": [
      "the value of x is:  300\n"
     ]
    }
   ],
   "source": [
    "x = 300\n",
    "if x==500:\n",
    "    print('the value of x is 500')\n",
    "elif x==200:\n",
    "    print('the value of x is 200')\n",
    "else:\n",
    "    print('the value of x is: ', x)"
   ]
  },
  {
   "cell_type": "markdown",
   "id": "fc4fcf54-356a-4a48-a9c6-2a3d55513267",
   "metadata": {},
   "source": [
    "num = float(input(\"Enter a number\"))\n",
    "if num >= 0:\n",
    "    if num == 0:\n",
    "        print(\"zero\")\n",
    "    else:\n",
    "        print(\"postive number\")\n",
    "else:\n",
    "    print(\"negative number\")"
   ]
  },
  {
   "cell_type": "markdown",
   "id": "3878e2fc-b657-4c51-9e82-4328ccecf37a",
   "metadata": {},
   "source": [
    "# Loops"
   ]
  },
  {
   "cell_type": "code",
   "execution_count": 49,
   "id": "c1cdc464-d853-47e1-9217-bb75536dbd5c",
   "metadata": {},
   "outputs": [
    {
     "name": "stdout",
     "output_type": "stream",
     "text": [
      "The sum is 1946\n"
     ]
    }
   ],
   "source": [
    "numbers = [66, 545, 223, 438, 224, 125, 214, 111]\n",
    "sum = 0\n",
    "\n",
    "for val in numbers:\n",
    "    sum = sum + val\n",
    "\n",
    "print(\"The sum is\", sum)"
   ]
  },
  {
   "cell_type": "code",
   "execution_count": 51,
   "id": "07aef19d-beb3-4c6f-9a6a-36df3cf8bd7a",
   "metadata": {},
   "outputs": [
    {
     "name": "stdout",
     "output_type": "stream",
     "text": [
      "The sum of first 9 integers:  45\n"
     ]
    }
   ],
   "source": [
    "a = 0\n",
    "b = 0\n",
    "while a < 10:\n",
    "    b = b + a\n",
    "    a = a + 1\n",
    "else:\n",
    "    print('The sum of first 9 integers: ', b)"
   ]
  },
  {
   "cell_type": "code",
   "execution_count": 59,
   "id": "303ae6da-b59e-4925-8148-36688e658031",
   "metadata": {},
   "outputs": [
    {
     "name": "stdin",
     "output_type": "stream",
     "text": [
      " 1\n",
      " 2\n",
      " 3\n"
     ]
    },
    {
     "name": "stdout",
     "output_type": "stream",
     "text": [
      "No negative number met\n"
     ]
    }
   ],
   "source": [
    "# The range() function returns a sequence of numbers, starting from 0 by default, and increments by 1 \n",
    "# range(5), sequence of number from 0 to 4\n",
    "for i in range(3):\n",
    "    a = int(input())\n",
    "    if a < 0:\n",
    "        print(\"Met a negative number\", a)\n",
    "        break\n",
    "else:\n",
    "    print('No negative number met')"
   ]
  },
  {
   "cell_type": "code",
   "execution_count": 61,
   "id": "ff50b650-3486-477c-8016-74a058b9884f",
   "metadata": {},
   "outputs": [
    {
     "name": "stdout",
     "output_type": "stream",
     "text": [
      "1\n",
      "2\n",
      "3\n",
      "4\n",
      "5\n",
      "7\n",
      "8\n",
      "9\n",
      "10\n"
     ]
    }
   ],
   "source": [
    "for i in range(1, 11):\n",
    "    if i == 6:\n",
    "        continue\n",
    "    else:\n",
    "        print(i)"
   ]
  },
  {
   "cell_type": "code",
   "execution_count": null,
   "id": "0a59e5bc-509a-44a6-a136-7b803aeef641",
   "metadata": {},
   "outputs": [],
   "source": []
  }
 ],
 "metadata": {
  "kernelspec": {
   "display_name": "Python 3 (ipykernel)",
   "language": "python",
   "name": "python3"
  },
  "language_info": {
   "codemirror_mode": {
    "name": "ipython",
    "version": 3
   },
   "file_extension": ".py",
   "mimetype": "text/x-python",
   "name": "python",
   "nbconvert_exporter": "python",
   "pygments_lexer": "ipython3",
   "version": "3.12.4"
  }
 },
 "nbformat": 4,
 "nbformat_minor": 5
}
